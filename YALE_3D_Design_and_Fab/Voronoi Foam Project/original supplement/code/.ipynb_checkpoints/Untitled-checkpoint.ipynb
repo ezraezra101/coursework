{
 "cells": [
  {
   "cell_type": "code",
   "execution_count": 66,
   "metadata": {
    "collapsed": false
   },
   "outputs": [],
   "source": [
    "import numpy\n",
    "\n",
    "# Figures out the closest point on the bisector line of s1,s2, and s3 to q.\n",
    "def closest_point_to_bisector_line(q, s1,s2,s3):\n",
    "\tavg_s = (s1+s2+s3)/3 # Bisector line passes through here\n",
    "\taxis = numpy.cross(s1-s3,s1-s2)\n",
    "\taxis = axis/numpy.linalg.norm(axis) # Unit vector direction of line\n",
    "\n",
    "\treturn numpy.dot(avg_s - q, axis) * axis + avg_s\n"
   ]
  },
  {
   "cell_type": "code",
   "execution_count": 67,
   "metadata": {
    "collapsed": false
   },
   "outputs": [
    {
     "data": {
      "text/plain": [
       "array([   0.33333333,    0.        , -100.21986569])"
      ]
     },
     "execution_count": 67,
     "metadata": {},
     "output_type": "execute_result"
    }
   ],
   "source": [
    "s=numpy.random.rand\n",
    "q=s(3)+100\n",
    "s1=numpy.array([0,1,0])\n",
    "s2=numpy.array([1,0,0])\n",
    "s3=numpy.array([0,-1,0])\n",
    "closest_point_to_bisector_line(q,s1,s2,s3)"
   ]
  },
  {
   "cell_type": "code",
   "execution_count": 68,
   "metadata": {
    "collapsed": false
   },
   "outputs": [
    {
     "data": {
      "text/plain": [
       "array([   0.33333333,    0.        , -100.21986569])"
      ]
     },
     "execution_count": 68,
     "metadata": {},
     "output_type": "execute_result"
    }
   ],
   "source": [
    "avg_s = (s1+s2+s3)/3 # Bisector line passes through here\n",
    "axis = numpy.cross(s1-s2, s1-s3)\n",
    "axis = axis/numpy.linalg.norm(axis) # Unit vector direction of line\n",
    "\n",
    "(numpy.dot(avg_s - q, axis) * axis) + avg_s"
   ]
  },
  {
   "cell_type": "code",
   "execution_count": 45,
   "metadata": {
    "collapsed": false
   },
   "outputs": [],
   "source": [
    "# From: https://stackoverflow.com/questions/11541123/how-can-i-make-a-simple-3d-line-with-matplotlib\n",
    "\n",
    "import matplotlib.pyplot as plt\n",
    "from mpl_toolkits.mplot3d import Axes3D\n",
    "fig = plt.figure()\n",
    "ax = fig.add_subplot(111, projection='3d')\n",
    "\n",
    "ps=list(zip(avg_s, avg_s+axis))\n",
    "qs=list(zip(q))\n",
    "#ax.plot(ps[0], ps[1], ps[2])\n",
    "plt.plot(qs[0],qs[1],qs[2])\n",
    "plt.show()"
   ]
  },
  {
   "cell_type": "markdown",
   "metadata": {},
   "source": [
    "1. $ \\vec n *\\vec x + d = 0, \\vec x = t*\\vec n + \\vec s_{avg}$\n",
    "2. $ \\vec{n} * (t*\\vec n + \\vec s_{avg}) + d = 0$\n",
    "3. $ t * \\vec{n^2} + \\vec s_{avg} * \\vec{n} + d = 0$\n",
    "4. $ t + \\vec s_{avg} * \\vec{n} + d = 0 \\text{ because } \\vec{n} * \\vec{n}$\n",
    "5. $ t = -\\vec s_{avg} * \\vec{n} - d$\n",
    "6. We know that $d = -\\vec n * \\vec q$, so:\n",
    "    - $ t = -\\vec s_{avg} * \\vec{n} - (-\\vec n * \\vec q)$\n",
    "6. Now we want to find the point $\\vec x$ associated with $t$:\n",
    "    - $t = -\\vec s_{avg} * \\vec{n} - d$\n",
    "    - $\\vec x = t*\\vec n + \\vec s_{avg}$\n",
    "    - $d = -\\vec n * q$\n",
    "7. $\\vec x = ( -\\vec s_{avg} * \\vec{n} - ( -\\vec n * \\vec q ))*\\vec n + \\vec s_{avg}$\n",
    "8. "
   ]
  },
  {
   "cell_type": "code",
   "execution_count": null,
   "metadata": {
    "collapsed": true
   },
   "outputs": [],
   "source": [
    "axi"
   ]
  }
 ],
 "metadata": {
  "kernelspec": {
   "display_name": "Python [Root]",
   "language": "python",
   "name": "Python [Root]"
  },
  "language_info": {
   "codemirror_mode": {
    "name": "ipython",
    "version": 3
   },
   "file_extension": ".py",
   "mimetype": "text/x-python",
   "name": "python",
   "nbconvert_exporter": "python",
   "pygments_lexer": "ipython3",
   "version": "3.5.2"
  }
 },
 "nbformat": 4,
 "nbformat_minor": 0
}
