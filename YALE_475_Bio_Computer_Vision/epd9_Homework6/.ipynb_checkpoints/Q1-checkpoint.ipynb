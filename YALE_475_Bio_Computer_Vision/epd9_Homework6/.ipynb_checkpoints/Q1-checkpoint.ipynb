{
 "cells": [
  {
   "cell_type": "markdown",
   "metadata": {},
   "source": [
    "# Softmax Classifier with Tensorflow\n",
    "\n",
    "Softmax classifier is a generalization of binary logistic regression. For details about the algorithm and concepts, check this [link](https://houxianxu.github.io/2015/04/23/logistic-softmax-regression/). In this question, you will train a softmax classifier for the MNIST dataset. "
   ]
  },
  {
   "cell_type": "code",
   "execution_count": 1,
   "metadata": {
    "collapsed": false
   },
   "outputs": [
    {
     "ename": "ImportError",
     "evalue": "No module named tensorflow",
     "output_type": "error",
     "traceback": [
      "\u001b[0;31m---------------------------------------------------------------------------\u001b[0m",
      "\u001b[0;31mImportError\u001b[0m                               Traceback (most recent call last)",
      "\u001b[0;32m<ipython-input-1-93a0ff6fb15e>\u001b[0m in \u001b[0;36m<module>\u001b[0;34m()\u001b[0m\n\u001b[1;32m      1\u001b[0m \u001b[0;32mimport\u001b[0m \u001b[0mtime\u001b[0m\u001b[0;34m\u001b[0m\u001b[0m\n\u001b[0;32m----> 2\u001b[0;31m \u001b[0;32mimport\u001b[0m \u001b[0mtensorflow\u001b[0m \u001b[0;32mas\u001b[0m \u001b[0mtf\u001b[0m\u001b[0;34m\u001b[0m\u001b[0m\n\u001b[0m\u001b[1;32m      3\u001b[0m \u001b[0;32mfrom\u001b[0m \u001b[0mtensorflow\u001b[0m\u001b[0;34m.\u001b[0m\u001b[0mexamples\u001b[0m\u001b[0;34m.\u001b[0m\u001b[0mtutorials\u001b[0m\u001b[0;34m.\u001b[0m\u001b[0mmnist\u001b[0m \u001b[0;32mimport\u001b[0m \u001b[0minput_data\u001b[0m\u001b[0;34m\u001b[0m\u001b[0m\n",
      "\u001b[0;31mImportError\u001b[0m: No module named tensorflow"
     ]
    }
   ],
   "source": [
    "import time\n",
    "import tensorflow as tf\n",
    "from tensorflow.examples.tutorials.mnist import input_data"
   ]
  },
  {
   "cell_type": "markdown",
   "metadata": {},
   "source": [
    "# Step 1: Read in the data\n",
    "Using TF's built-in function to load MNIST data to the folder data/mnist"
   ]
  },
  {
   "cell_type": "code",
   "execution_count": null,
   "metadata": {
    "collapsed": true
   },
   "outputs": [],
   "source": [
    "mnist = input_data.read_data_sets('MNIST_data', one_hot=True)"
   ]
  },
  {
   "cell_type": "markdown",
   "metadata": {},
   "source": [
    "# Step 2: Create placeholders features and labels\n",
    "Each image in the MNIST data has shape 28x28 = 784; therefore, each image is represented with a 1x784 tensor.\n",
    "There are 10 classes for each image, corresponding to digits 0-9. Each label is a \"one-hot\" vector of size 10. Pay attention to the shape of the data matrix `x`: the first entry is usually used for the batch size (number of images in a batch); it is set to None or -1 to make the batch size arbitrary (so it can handle different numbers of examples).\n",
    "\n",
    "HINT: use `tf.placeholder`"
   ]
  },
  {
   "cell_type": "code",
   "execution_count": null,
   "metadata": {
    "collapsed": true
   },
   "outputs": [],
   "source": [
    "X = tf.placeholder(tf.float32, [None, 784], name='X')\n",
    "y = tf.placeholder(tf.int32, [None, 10], name='y')"
   ]
  },
  {
   "cell_type": "markdown",
   "metadata": {},
   "source": [
    "# Step 3: Create the weights and bias\n",
    "The weights matrix `W` is initialized to normally-distributed random variables with mean 0 and std. dev. 0.01. The bias vector \n",
    "`b` is initialized to 0. The shape of `W` depends on the dimension of `x` and `y` so that `y = tf.matmul(x, W)`.\n",
    "The shape of `b` depends on the shape of `y`."
   ]
  },
  {
   "cell_type": "code",
   "execution_count": null,
   "metadata": {
    "collapsed": true
   },
   "outputs": [],
   "source": [
    "W = tf.Variable(tf.random_normal(shape=[784, 10], stddev=0.01), name='weights')\n",
    "b = tf.Variable(tf.zeros([1, 10]), name=\"bias\")"
   ]
  },
  {
   "cell_type": "markdown",
   "metadata": {},
   "source": [
    "# Step 4: Building the model\n",
    "Build the softmax model.\n",
    "\n",
    "$logits = XW + b$\n",
    "\n",
    "`x.shape` is (None, 784), `W.shape` is (784, 10) and `b.shape` is (1, 10). Now, use `tf.matmul` to calculate the unnormalized \"logits\"."
   ]
  },
  {
   "cell_type": "code",
   "execution_count": null,
   "metadata": {
    "collapsed": true
   },
   "outputs": [],
   "source": [
    "# TODO\n",
    "logits = "
   ]
  },
  {
   "cell_type": "markdown",
   "metadata": {},
   "source": [
    "# Step 5: Defining the loss function\n",
    "Usually, we use negative log-likelihood or cross entropy (if you are confused with these buzzwords, check [this](https://rdipietro.github.io/friendly-intro-to-cross-entropy-loss/) and [this](https://www.quora.com/What-are-the-differences-between-maximum-likelihood-and-cross-entropy-as-a-loss-function)) as the loss function for the softmax classifier. Since it is widely used, there is a built-in function in tensorflow that directly computes the loss from the logits and the labels (plus, it applies the softmax normalization to the logits in a more numerically-stable way).  "
   ]
  },
  {
   "cell_type": "code",
   "execution_count": null,
   "metadata": {
    "collapsed": true
   },
   "outputs": [],
   "source": [
    "entropy = tf.nn.softmax_cross_entropy_with_logits(logits=logits, labels=y, name='loss') # cross entropy loss\n",
    "loss = tf.reduce_mean(entropy)  # compute the mean over all the examples in the batch"
   ]
  },
  {
   "cell_type": "markdown",
   "metadata": {},
   "source": [
    "# Step 6: Optimization\n",
    "Use gradient descent with learning rate of 0.5 to minimize the loss function."
   ]
  },
  {
   "cell_type": "code",
   "execution_count": null,
   "metadata": {
    "collapsed": true
   },
   "outputs": [],
   "source": [
    "learning_rate = 0.5\n",
    "optimizer = tf.train.GradientDescentOptimizer(learning_rate).minimize(loss)"
   ]
  },
  {
   "cell_type": "markdown",
   "metadata": {},
   "source": [
    "# Step 7: Training"
   ]
  },
  {
   "cell_type": "code",
   "execution_count": null,
   "metadata": {
    "collapsed": true
   },
   "outputs": [],
   "source": [
    "batch_size = 100\n",
    "n_epochs = 30"
   ]
  },
  {
   "cell_type": "code",
   "execution_count": null,
   "metadata": {
    "collapsed": true
   },
   "outputs": [],
   "source": [
    "# You need to start a tf.Session instance to evaluate the computation graph you just defined. \n",
    "sess = tf.Session()\n",
    "# to initialize the variables\n",
    "sess.run(tf.global_variables_initializer())"
   ]
  },
  {
   "cell_type": "code",
   "execution_count": null,
   "metadata": {
    "collapsed": true
   },
   "outputs": [],
   "source": [
    "# Now, it is time to train the model.\n",
    "start_time = time.time()\n",
    "n_batches = int(mnist.train.num_examples / batch_size)\n",
    "# train the model n_epochs times\n",
    "for i in range(n_epochs):  \n",
    "    total_loss = 0\n",
    "    for _ in range(n_batches):\n",
    "        # Get a batch of training \n",
    "        X_batch, Y_batch = mnist.train.next_batch(batch_size)\n",
    "        _, loss_batch = sess.run([optimizer, loss], feed_dict={X: X_batch, y: Y_batch})\n",
    "        total_loss += loss_batch\n",
    "    print('Average loss epoch {0}: {1}'.format(i, total_loss / n_batches))\n",
    "print('Total time: {0} seconds'.format(time.time() - start_time))\n",
    "print('Optimization Finished!')"
   ]
  },
  {
   "cell_type": "markdown",
   "metadata": {},
   "source": [
    "# Step 8: Testing\n",
    "To test the model, we define `probs` and `accuracy` so that we can evaluate the prediction accuracy of the model."
   ]
  },
  {
   "cell_type": "code",
   "execution_count": null,
   "metadata": {
    "collapsed": true
   },
   "outputs": [],
   "source": [
    "probs = tf.nn.softmax(logits) #normalize logits obtained from training to get probabilities\n",
    "correct_preds = tf.equal(tf.argmax(probs, 1), tf.argmax(y, 1))\n",
    "accuracy = tf.reduce_sum(tf.cast(correct_preds, tf.float32))\n",
    "\n",
    "# Now, let's evaluate the testing accuracy.\n",
    "total_correct_preds = sess.run(accuracy, feed_dict={X: mnist.test.images, y: mnist.test.labels})\n",
    "print('Accuracy {0}'.format(total_correct_preds / mnist.test.num_examples))"
   ]
  }
 ],
 "metadata": {
  "kernelspec": {
   "display_name": "Python [py27]",
   "language": "python",
   "name": "Python [py27]"
  },
  "language_info": {
   "codemirror_mode": {
    "name": "ipython",
    "version": 2
   },
   "file_extension": ".py",
   "mimetype": "text/x-python",
   "name": "python",
   "nbconvert_exporter": "python",
   "pygments_lexer": "ipython2",
   "version": "2.7.12"
  }
 },
 "nbformat": 4,
 "nbformat_minor": 2
}
