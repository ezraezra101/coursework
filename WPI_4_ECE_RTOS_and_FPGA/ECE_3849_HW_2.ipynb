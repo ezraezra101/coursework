{
 "cells": [
  {
   "cell_type": "markdown",
   "metadata": {},
   "source": [
    "## ECE 3849 Homework 2\n",
    "Ezra Davis\n",
    "\n",
    "11/10/2016"
   ]
  },
  {
   "cell_type": "markdown",
   "metadata": {},
   "source": [
    "### Problem 1\n",
    "#### A)\n",
    "The `++iHead;` line is a read-modify-write operation, and if the high priority interrupt is called in the middle of this operation, then the low priority task will continue to write it's iHead value, ignoring the change in the high priority task.\n",
    "\n",
    "#### B)\n",
    "The high priority task doesn't need to be changed - it won't be interrupted.\n",
    "```C\n",
    "void SinkTask (void)  // low priority\n",
    "{\n",
    "    int iValue;\n",
    "    while (TRUE)\n",
    "        IntMasterDisable();     ///// Line changed //////\n",
    "        if (iHead != iTail)\n",
    "        {\n",
    "            iValue = iQueue[iHead];\n",
    "            ++iHead;\n",
    "            if (iHead == 100)\n",
    "                iHead = 0;\n",
    "            IntMasterEnable(); ///// Line changed //////\n",
    "            <do something with iValue>; \n",
    "        } else {               ///// Line changed //////\n",
    "            IntMasterEnable(); ///// Line changed //////\n",
    "        }                      ///// Line changed //////\n",
    "}\n",
    "```"
   ]
  },
  {
   "cell_type": "markdown",
   "metadata": {},
   "source": [
    "### Problem 2\n",
    "\n",
    "**Line 4** is by far the most indicative of the fact that the function is not reentrant.\n",
    "It is a non-atomic (read-modify-write) operation on a global variable, which means that if the code is interrupted after the read, but before the modify, the changes made to `iCount` during the higher priority task will be ignored.\n",
    "\n",
    "Also, line 5 will be not reentrant depending on the implementation of `printf`, which usually uses global variables and is not reentrant."
   ]
  },
  {
   "cell_type": "markdown",
   "metadata": {},
   "source": [
    "### Problem 3\n",
    "\n",
    "```C\n",
    "static int iValue;\n",
    "int iFixValue (int iParm)\n",
    "{\n",
    "    int iTemp;\n",
    "    IntMasterDisable(); ///// New line /////\n",
    "    iTemp = iValue  // READ\n",
    "    iTemp += iParm * 17;\n",
    "    if (iTemp > 4922)\n",
    "        iTemp = iParm;\n",
    "    iValue = iTemp; //WRITE\n",
    "    IntMasterEnable(); ///// New line /////\n",
    "    iParm = iTemp + 179;\n",
    "    if (iParm < 2000)\n",
    "        return 1;\n",
    "    else\n",
    "        return 0;\n",
    "}\n",
    "```"
   ]
  },
  {
   "cell_type": "markdown",
   "metadata": {},
   "source": [
    "### Problem 4\n",
    "\n",
    "\n",
    "Step | Task1   | Task2   | semTask1 | semTask2 | sem0\n",
    "-----|---------|---------|----------|----------|-----\n",
    "1    | Running | Ready   | 0, none  | 1, none  | 1, none\n",
    "2    | Blocked | Ready   | 0, Task1 | 1, none  | 1, none\n",
    "3    | Blocked | Running | 0, Task1 | 0, none  | 1, none\n",
    "\n",
    "##### Notes to self (feel free to ignore):\n",
    "At time 2, `Task2` is running and *might be* in the critical section, but is definitely before `Hwi0` runs - because then `Task1` wouldn't be blocked, and would be running instead of `Task2`. This means that `sem0` could actually be in either state... but because of the location that time 2 is indicated, `Task2` probably hasn't been running long enough to enter the critical section.\n",
    "\n",
    "After time 2, the `Hwi0` runs, interrupting `Task2` while it's running. `Task1` runs until it reaches the line where it `pend`s on `sem0`, after which `Task2` runs again.\n",
    "\n",
    "Once `Task2` posts to `sem0`, control switches over to `Task1` again, which runs its critical section, but stops when it `pend`s on `semTask1`. Then `Task2` runs until it reaches the top of the while loop (probably just one `jmp` instruction) and we reach time 3.\n",
    "\n",
    "##### Timeline:\n",
    "- `Task1` starts running.\n",
    "- Time 1 happens\n",
    "- `Task1` Runs briefly until it reaches `Semaphore_pend(semTask1, BIOS_WAIT_FOREVER);`, when it is blocked.\n",
    "- Time 2 happens somewhere in here - probably immediately before `Task2` starts running, but technically, it could be after...\n",
    "- `Task2` starts running, and after decrementing `sem0`, `Hwi0` happens, and switches control over to `Task1`\n",
    "- `Task1` runs until it `pend`s on `sem0`, after which it is blocked.\n",
    "- `Task2` starts running until it `post`s to `sem0`\n",
    "- `Task1` suddenly takes over, runs its critical section, and runs until it is blocked by `semTask1`\n",
    "- `Task2` runs until Time 3 happens, and then it blocks pending on `semTask2`\n"
   ]
  }
 ],
 "metadata": {
  "kernelspec": {
   "display_name": "Python [Root]",
   "language": "python",
   "name": "Python [Root]"
  },
  "language_info": {
   "codemirror_mode": {
    "name": "ipython",
    "version": 3
   },
   "file_extension": ".py",
   "mimetype": "text/x-python",
   "name": "python",
   "nbconvert_exporter": "python",
   "pygments_lexer": "ipython3",
   "version": "3.5.2"
  }
 },
 "nbformat": 4,
 "nbformat_minor": 0
}
