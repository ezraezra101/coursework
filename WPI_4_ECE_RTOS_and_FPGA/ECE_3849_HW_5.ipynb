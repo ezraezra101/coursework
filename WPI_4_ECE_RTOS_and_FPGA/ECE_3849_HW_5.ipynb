{
 "cells": [
  {
   "cell_type": "markdown",
   "metadata": {},
   "source": [
    "## ECE 3849 Homework 5\n",
    "##### Ezra Davis, Mailbox 629\n",
    "##### 12/13/2016"
   ]
  },
  {
   "cell_type": "markdown",
   "metadata": {},
   "source": [
    "## Problem 1:\n",
    "\n",
    "```C\n",
    "unsigned long i, m;          // r0 = i; r1 = m;\n",
    "unsigned long A[10], B[10];  // r2 = &A[0]; r3 = &B[0];\n",
    "B[i] = (B[i] >> 3) | (A[i] & m);\n",
    "```\n",
    "\n",
    "Assembly Code:\n",
    "```as\n",
    "push {r4-r6}\n",
    "lsl r4, r0, #2;     r4 = r0 << 2\n",
    "ldr r5, [r4, r2];   r5 = load A[i] (r4+r2)\n",
    "and r5, r5, r0;     r5 = r5 & m\n",
    "ldr r6, [r4, r3];   r6 = load B[i] (r4+r3)\n",
    "rsr r6, r6, #3;     r6 = r6 >> 3\n",
    "orr r6, r6, r5;     r6 = r6 | r5\n",
    "str r6, [r4, r3];   B[i] (r4+r3) = r6\n",
    "pop {r4-r6}\n",
    "```"
   ]
  },
  {
   "cell_type": "markdown",
   "metadata": {},
   "source": [
    "## Problem 2:\n",
    "\n",
    "C code:\n",
    "```C\n",
    "long i, x;   // r0 = i; r1 = x;\n",
    "long A[64];  // r2 = &A[0];\n",
    "\n",
    "if ((i == 0) || (A[i] >= A[i - 1])) {\n",
    "    x += A[i];\n",
    "}\n",
    "else {\n",
    "    x--;\n",
    "}\n",
    "```\n",
    "Converted Assembly:\n",
    "```as\n",
    "    cmp r0, #0\n",
    "    bne IF\n",
    "    sub r3, r0, #1             ; r3 = i-1\n",
    "    ldr r4, [r2, r0, lsl #2]   ; r4 = A[i]\n",
    "    ldr r3, [r2, r3, lsl #2]   ; r3 = A[i-1]\n",
    "    cmp r4, r3                 ; jmp if r4 >= r3\n",
    "    bge IF\n",
    "    \n",
    "    sub r1, r1, #1; r1 = r1 - 1 ; ELSE\n",
    "    bal NEXT\n",
    "IF:\n",
    "    ldr r4, [r2, r0, lsl #2]   ; r4 = A[i]\n",
    "\n",
    "NEXT:\n",
    "    ; some other code\n",
    "```"
   ]
  },
  {
   "cell_type": "markdown",
   "metadata": {},
   "source": [
    "## Problem 3:\n",
    "Original C code:\n",
    "```C\n",
    "long max2(long a, long b); // implemented elsewhere\n",
    "long max4(long a, long b, long c, long d)\n",
    "{\n",
    "    return max2(max2(a, b), max2(c, d));\n",
    "}\n",
    "```\n",
    "Assembly:\n",
    "```as\n",
    "max4:    ; arguments: r0=a, r1=b, r2=c, r3=d\n",
    "    push {r4-r5, lr}\n",
    "    mov r4, r2  ; r4 = c\n",
    "    mov r5, r3  ; r5 = d\n",
    "    bl max2     ;r0 = max2(a,b)\n",
    "    mov r1, r5  ; r1 = d\n",
    "    mov r5, r0  ; r5 = max2(a,b)\n",
    "    mov r0, r4  ; r0 = c\n",
    "    bl max2     ; r0 = max(c,d)\n",
    "    mov r1, r0\n",
    "    mov r0, r5\n",
    "    bl max2\n",
    "    pop {r4-r5, pc}\n",
    "```\n"
   ]
  },
  {
   "cell_type": "markdown",
   "metadata": {},
   "source": [
    "## Problem 4:\n",
    "\n",
    "```as\n",
    ";;; r2 = #8\n",
    "block_copy4\n",
    "        lsl   r2, r2, #2     ; 1 cycle\n",
    "        mov   r3, #0         ; 1 cycle\n",
    "loop1   cmp   r3, r2         ; 1 cycle\n",
    "        bhs   done1          ; 1 cycle, 2 if jumping\n",
    "\n",
    "        ldr   r12, [r1, r3]  ; 2 cycles\n",
    "        str   r12, [r0, r3]  ; 2 cycles\n",
    "        add   r3, r3, #4     ; 1 cycle\n",
    "        b     loop1          ; 2 cycles\n",
    "\n",
    "done1   bx lr                ; 2 cycles\n",
    "```\n",
    "\n",
    "`Result = lsl+mov+(8*loop1 to done1)+extra bhs time + bx =` $ 2 + 8*9 + 1 + 2$\n",
    "\n",
    "block_copy4 takes 77 clock cycles to complete"
   ]
  },
  {
   "cell_type": "code",
   "execution_count": null,
   "metadata": {
    "collapsed": true
   },
   "outputs": [],
   "source": []
  }
 ],
 "metadata": {
  "anaconda-cloud": {},
  "kernelspec": {
   "display_name": "Python [py27]",
   "language": "python",
   "name": "Python [py27]"
  },
  "language_info": {
   "codemirror_mode": {
    "name": "ipython",
    "version": 2
   },
   "file_extension": ".py",
   "mimetype": "text/x-python",
   "name": "python",
   "nbconvert_exporter": "python",
   "pygments_lexer": "ipython2",
   "version": "2.7.12"
  }
 },
 "nbformat": 4,
 "nbformat_minor": 0
}
