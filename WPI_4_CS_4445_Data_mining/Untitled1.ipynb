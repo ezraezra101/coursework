{
 "cells": [
  {
   "cell_type": "markdown",
   "metadata": {},
   "source": [
    "\n",
    "### Silly attempt at making a NN class"
   ]
  },
  {
   "cell_type": "code",
   "execution_count": 2,
   "metadata": {
    "collapsed": false
   },
   "outputs": [
    {
     "ename": "SyntaxError",
     "evalue": "invalid syntax (<ipython-input-2-1a88f8e988e9>, line 23)",
     "output_type": "error",
     "traceback": [
      "\u001b[0;36m  File \u001b[0;32m\"<ipython-input-2-1a88f8e988e9>\"\u001b[0;36m, line \u001b[0;32m23\u001b[0m\n\u001b[0;31m    h = np.dot(self.weights, x)\u001b[0m\n\u001b[0m    ^\u001b[0m\n\u001b[0;31mSyntaxError\u001b[0m\u001b[0;31m:\u001b[0m invalid syntax\n"
     ]
    }
   ],
   "source": [
    "import numpy as np\n",
    "\n",
    "class Layer:\n",
    "    def __init__(n_inputs, n_outputs):\n",
    "        pass\n",
    "    def get_outputs_length():\n",
    "        pass\n",
    "    def forward_pass(x):\n",
    "        pass\n",
    "    def backwards_pass(x):\n",
    "        pass\n",
    "\n",
    "class Dense(Layer):\n",
    "    def __init__(n_inputs, n_outputs):\n",
    "        self.weights = np.random.randn(n_inputs, n_outputs)\n",
    "    \n",
    "    def get_outputs_length():\n",
    "        return self.weights.shape[1]\n",
    "    \n",
    "    def forward_pass(x):\n",
    "        if(len(x) != self.weights.shape[0]):\n",
    "            raise Error(\"Expected input into layer to have length {}, but had length {}\".format(self.weigths.shape[0],len(x))\n",
    "        h = np.dot(self.weights, x)\n",
    "\n",
    "class ReluLayer(Layer):\n",
    "    def __init(n_inputs,n_outputs):\n",
    "        self.n_outputs = n_outputs\n",
    "    def get_outputs_length():\n",
    "        return self.n_outputs\n",
    "    \n",
    "    def forward_pass(x):\n",
    "        return np.array([ v if v > 0 else 0 for v in x])\n",
    "    \n",
    "    \n",
    "    p_up = sigmoid(np.dot(model['W_up'], h))\n",
    "    p_down = sigmoid(np.dot(model['W_down'], h))\n",
    "    p_left = sigmoid(np.dot(model['W_left'], h))\n",
    "    p_right = sigmoid(np.dot(model['W_right'], h))\n",
    "    total_p = p_up + p_down + p_left + p_right\n",
    "    p_up /= total_p\n",
    "    p_down /= total_p\n",
    "    p_left /= total_p\n",
    "    p_right /= total_p\n",
    "    return [p_up, p_down, p_left, p_right], h # return probability of taking action 2, and hidden state\n",
    "\n",
    "\n"
   ]
  },
  {
   "cell_type": "code",
   "execution_count": null,
   "metadata": {
    "collapsed": false
   },
   "outputs": [],
   "source": []
  },
  {
   "cell_type": "code",
   "execution_count": null,
   "metadata": {
    "collapsed": true
   },
   "outputs": [],
   "source": [
    "from matplotlib import pyplot as plt\n",
    "plt.plot(x[0])\n",
    "plt.show()"
   ]
  },
  {
   "cell_type": "code",
   "execution_count": null,
   "metadata": {
    "collapsed": true
   },
   "outputs": [],
   "source": []
  }
 ],
 "metadata": {
  "kernelspec": {
   "display_name": "Python [py27]",
   "language": "python",
   "name": "Python [py27]"
  },
  "language_info": {
   "codemirror_mode": {
    "name": "ipython",
    "version": 2
   },
   "file_extension": ".py",
   "mimetype": "text/x-python",
   "name": "python",
   "nbconvert_exporter": "python",
   "pygments_lexer": "ipython2",
   "version": "2.7.12"
  }
 },
 "nbformat": 4,
 "nbformat_minor": 0
}
