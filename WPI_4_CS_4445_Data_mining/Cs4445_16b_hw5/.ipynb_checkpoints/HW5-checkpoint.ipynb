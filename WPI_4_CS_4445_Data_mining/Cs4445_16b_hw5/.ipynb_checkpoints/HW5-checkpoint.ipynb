{
 "cells": [
  {
   "cell_type": "markdown",
   "metadata": {},
   "source": [
    "# Homework 5 : RNN and KMeans (100 points)\n",
    "\n",
    "*------------"
   ]
  },
  {
   "cell_type": "markdown",
   "metadata": {},
   "source": [
    "\n",
    "**Required Readings:** \n",
    "* [RNN](http://karpathy.github.io/2015/05/21/rnn-effectiveness/), [Keras Code Example](https://github.com/fchollet/keras/blob/master/examples/lstm_text_generation.py)\n",
    "\n",
    "** NOTE **\n",
    "* Please don't forget to save the notebook frequently when working in IPython Notebook, otherwise the changes you made can be lost.\n",
    "\n",
    "*----------------------"
   ]
  },
  {
   "cell_type": "markdown",
   "metadata": {},
   "source": [
    "# Problem 1 (40 points): Use simple RNN to generate Yelp Reviews\n",
    "\n",
    "* Load the Yelp reviews in the reviews.json file.\n",
    "* The code below transforms the text into short sentences.\n",
    "* Please use SimpleRNN to train on the review data, and genrate at least 5 reviews.\n",
    "* The speed and performance of the RNN depend on the number of neurons in the hidden layer. The more hidden neurons in the RNN, the slower in speed and the better in performance."
   ]
  },
  {
   "cell_type": "code",
   "execution_count": 4,
   "metadata": {
    "collapsed": false
   },
   "outputs": [
    {
     "name": "stdout",
     "output_type": "stream",
     "text": [
      "('review length:', 635393)\n",
      "('nb chars:', 92)\n",
      "('nb sequences:', 211785)\n",
      "Vectorization...\n",
      "Done\n"
     ]
    }
   ],
   "source": [
    "import numpy as np\n",
    "import random\n",
    "import sys\n",
    "import json\n",
    "\n",
    "# load json file and extract reviews\n",
    "review_data = []\n",
    "for line in open('reviews.json', 'r'):\n",
    "    review_data.append(json.loads(line)['text'])\n",
    "text= ''.join(review_data)\n",
    "print('review length:', len(text))\n",
    "\n",
    "\n",
    "# extract the set of characters\n",
    "chars = sorted(list(set(text)))\n",
    "print('nb chars:', len(chars))\n",
    "# character index\n",
    "char_indices = dict((c, i) for i, c in enumerate(chars))\n",
    "indices_char = dict((i, c) for i, c in enumerate(chars))\n",
    "\n",
    "\n",
    "# cut the text in short sequences of (maxlen) characters\n",
    "maxlen = 40\n",
    "step = 3\n",
    "sentences = []\n",
    "next_chars = []\n",
    "for i in range(0, len(text) - maxlen, step):\n",
    "    sentences.append(text[i: i + maxlen])\n",
    "    next_chars.append(text[i + maxlen])\n",
    "print('nb sequences:', len(sentences))\n",
    "\n",
    "print('Vectorization...')\n",
    "X = np.zeros((len(sentences), maxlen, len(chars)), dtype=np.bool)\n",
    "y = np.zeros((len(sentences), len(chars)), dtype=np.bool)\n",
    "for i, sentence in enumerate(sentences):\n",
    "    for t, char in enumerate(sentence):\n",
    "        X[i, t, char_indices[char]] = 1\n",
    "    y[i, char_indices[next_chars[i]]] = 1\n",
    "print('Done')"
   ]
  },
  {
   "cell_type": "markdown",
   "metadata": {},
   "source": [
    "## build the model"
   ]
  },
  {
   "cell_type": "code",
   "execution_count": 11,
   "metadata": {
    "collapsed": false
   },
   "outputs": [],
   "source": [
    "from keras.models import Sequential\n",
    "from keras.layers import Dense, Activation\n",
    "from keras.layers.recurrent import SimpleRNN\n",
    "from keras.optimizers import RMSprop\n",
    "\n",
    "hidden_rnn_units = 50\n",
    "output = X[0].shape[1]\n",
    "input_shape = X[0].shape\n",
    "\n",
    "# build the model: a simple RNN\n",
    "#------------------------------------------\n",
    "model = Sequential()\n",
    "model.add(SimpleRNN(hidden_rnn_units, input_shape = input_shape))\n",
    "model.add(Dense(output))\n",
    "model.add(Activation('softmax'))\n",
    "model.compile(loss='categorical_crossentropy', optimizer='sgd')\n",
    "\n",
    "\n",
    "\n",
    "\n",
    "#------------------------------------------\n"
   ]
  },
  {
   "cell_type": "markdown",
   "metadata": {},
   "source": [
    "## train the RNN model and generate reviews"
   ]
  },
  {
   "cell_type": "code",
   "execution_count": 13,
   "metadata": {
    "collapsed": false
   },
   "outputs": [
    {
     "name": "stdout",
     "output_type": "stream",
     "text": [
      "\n",
      "--------------------------------------------------\n",
      "Iteration 0\n",
      "Epoch 1/1\n",
      "211785/211785 [==============================] - 28s - loss: 3.0245    \n",
      "----- Generating with seed: \"the second one ended sooner.  They need \"\n",
      "the second one ended sooner.  They need ag  eewhhtklwUm\n",
      "iekwp onam/inhlo til  ttyh Ioedhv )  rtbt to ue h st eleo\"tsd dioIususu'' iuslanp sue s en =ib es n)or s.weao e toyoeailenigSr.c,ev okc aer^hrft o6knnu uh olhs tbhaIsnhtd i avtoe anubtepseuotat .d lgdn /deen nhte we cphietoo r oerestayb yeet tetnn roodgaahe ewMhwtn0 oeo]mot Cayad gl focw .n.r uete o7ehva go  tssc oMet go   bktudt,yrees aso pemss yeponssa  eod a.et.,eoup,  noI epagl\n",
      "\n",
      "--------------------------------------------------\n",
      "Iteration 1\n",
      "Epoch 1/1\n",
      "211785/211785 [==============================] - 27s - loss: 2.9474    \n",
      "----- Generating with seed: \" strip mall may be changed.  That would \"\n",
      " strip mall may be changed.  That would s mlelait ybsthtgkonrtee th  owmol taey wd.n sd ycaerelka ao rs s lur eeg ek  pse iog toehsa-oa aoo0 aa anlnee w-pnr Nfaam taT Tru ige io  aMmo ño,yee hi vi lfow ptes he rde mprf sarsle3 poauha uM motie t cd e euordt qImf tnh seti,ise ann tet\n",
      "l pfSe chgcnn cey wt sto oL ny .e\n",
      "e aoe &it ale. rRe lo 8gle da oren.e ;bte yG hewmek8ssrhiI hhls sSs' aronese iiiwfrlica. hh o- frgS .a tctlrpaetud. woo ppW\n",
      "\n",
      "--------------------------------------------------\n",
      "Iteration 2\n",
      "Epoch 1/1\n",
      "211785/211785 [==============================] - 28s - loss: 2.8709    \n",
      "----- Generating with seed: \" me explain that one of the many draws f\"\n",
      " me explain that one of the many draws ftealrl,wrcvwsavt teoe  aedohe,r uiaheop tfB aitdevB lad nicr wo,eipn gecy hA, antotehcvklee ai mhild y\n",
      "o tae iokle ss seihe moce chray ho a ,er nap ielt .o eaerasegeca ont ifod ttlmbtl t+rl'i  horrtoup Giutt er hrOt &Tae,wo ryo.dad ar ssllon. ex,t hy.enerv  efbe can twolt tt ohk gfis tesswtxuy -g eov oaes y oeont ueI wr, lI whkBetfyh ohd T vgo f%caafe dyeaN kbte? ahot ajshewwE uftoe cec lllel aaot\n",
      "\n",
      "--------------------------------------------------\n",
      "Iteration 3\n",
      "Epoch 1/1\n",
      "211785/211785 [==============================] - 29s - loss: 2.7991    \n",
      "----- Generating with seed: \"d PJs for lunch and once it finally arri\"\n",
      "d PJs for lunch and once it finally arrird yh  bhl et .inenbnd,stre poeeas woaoe  aallo b iloe aowem aoouetannmf yh gi mins thar.hdr Iar  Rocio.h wib\n",
      " iorynatjs goldue txWZaatshd oie/ rhdstnann meen rosa ins hareSebsesthai~ ta onv .cainthe aarivs manvesvamhcusnet $pserwbt ar tt~it vere sas heete bD woan imekoa poeog an toeie silthoo wat .uny ooc ia,  hhiand ae  btoe ceeet;e uo woue 5itr thm imughses aDind iu L,mes fot  he th Mhe OoLn ho\n",
      "\n",
      "--------------------------------------------------\n",
      "Iteration 4\n",
      "Epoch 1/1\n",
      "211785/211785 [==============================] - 22s - loss: 2.7403    \n",
      "----- Generating with seed: \".\n",
      "\n",
      "Like I said, the food is superb.  My \"\n",
      ".\n",
      "\n",
      "Like I said, the food is superb.  My sre t hTini. wu, bo cnea lorV iat kewonad sot nhed thoas wokw on mNo th  oa tue winvkr rwlah. efowsn yny oow aOdth omfp hh therared loo spueer op aon hAls Ihpxfkt agetem tokm ouf the gnie srim sarsowQoed ne waugly ifoa soss mnt d dht necvle divhepl garnuee blcn pniy wNas end ia woouye eumve,d .n buans ivC as ehgt r, a .on tbpar.eepne as 2ud arcant aam aue'e fco oe eikr iboce d;adocTetI siuebiedeus\n",
      "\n",
      "--------------------------------------------------\n",
      "Iteration 5\n",
      "Epoch 1/1\n",
      "211785/211785 [==============================] - 22s - loss: 2.6953    \n",
      "----- Generating with seed: \"ck to this store! the cashiers were very\"\n",
      "ck to this store! the cashiers were veryd whY. go dt tha\n",
      "e insdonnst xpawjhn ar.iat h inyxkSr acar.nt vor b atnili rered ercon uer. oo8w meu'tue p.sttine ,arxefave klllFy _lt heytii' thir ao dnye bivy miwprarjeofan ddiTns ther Dispa, nw au. dolt -ellw.,se kaw; the niveoum kboemr or, wmereaiXne sgarcans ore basvpia out morpiicin  hef inee ban Ier \n",
      "uoc y ostmifed irerwPsatrlreslt hins. wthike mor wanl ,in,ekt ce) Datok d ane hgyindet wfrp\n",
      "\n",
      "--------------------------------------------------\n",
      "Iteration 6\n",
      "Epoch 1/1\n",
      "211785/211785 [==============================] - 22s - loss: 2.6481    \n",
      "----- Generating with seed: \"ice dining area separate from the bar ar\"\n",
      "ice dining area separate from the bar areo,oe. mnu foe woSrw.icls'aet sext (We s iintermedtor adt oreie mod  of atO ooc bwe pehcsaky fiun Ie  iaeyank fo/ I ald wat'ut, piordenchsadise pOkift f tuMe oinclake pited age tes hrinn nhederwnagind the fingee saul ifar-sisw fiy tit ung uasl. the ssme iut s ar bichillc'es0aroupln Wh anfoionl sugevel. mef\"od pttece pcfen he oaseecesuge fod iae`  aset ane litme whot aot aho horanSg tiTe toase bed \n",
      "\n",
      "--------------------------------------------------\n",
      "Iteration 7\n",
      "Epoch 1/1\n",
      "211785/211785 [==============================] - 22s - loss: 2.6104    \n",
      "----- Generating with seed: \" Closing early at 5:30 on December 31.Th\"\n",
      " Closing early at 5:30 on December 31.Thirety weseame ee cerI me GIuy cour irasO te uget  anteq d  autis aofige Noine un ithg eyelvs ta bust on doreee wite whronf reo( hes arc ni_e qr par. Tire ire.ed top aee vas ius an Urherin illlp ts as ateik thiup lere puth sfls altse as ere a eny bong saue wvKt. vdé cp+wee  llein,  thore tennS fiupdtves oo -)tre _t cnithe  seypre indiniptjFbivlware id lpg triniy thedy Yinlaler pr woit me btheit the\n",
      "\n",
      "--------------------------------------------------\n",
      "Iteration 8\n",
      "Epoch 1/1\n",
      "211785/211785 [==============================] - 22s - loss: 2.5780    \n",
      "----- Generating with seed: \"onable number of lanes (although not as \"\n",
      "onable number of lanes (although not as lu hat I. s oecenbic wf the ave pio$ HmainheC uuin(p sortecgf aad oI ather and.o I touad wt baothe to y jf'agerce wh\n",
      "6i c th s woset eugs fattho baog insO lute tan. fANoap nethe uine a, iney anslde deryus anendat ou wfand whiny aretp7nkyd au' ghe t gs thainni d, f anld tanp b\"ond fo tulhe.g  h chitne, cous an.\n",
      "rT had eit. thin fevf id s uripift she .e boen dhe blo taules wa /ua,ty o\n",
      " thed S$ale mc\n",
      "\n",
      "--------------------------------------------------\n",
      "Iteration 9\n",
      "Epoch 1/1\n",
      "211785/211785 [==============================] - 22s - loss: 2.5503    \n",
      "----- Generating with seed: \"tting room in that place is a disaster. \"\n",
      "tting room in that place is a disaster. l\n",
      "eat cous ho d éaa te thiukr. ared ant tis sinel I !ith thic. .y ind is f tfer te m2cecpeant g e mirt rinetr  ot co IAt an isglutis the sac-thfsla.d en. ard kh. _ fClllf !he. bice sics. wt fertyf: tice in gas if whop srtand fiad Iloryd alills gfon bfer oo aed toa tha w theqimply Feeud thasg, ancloC br bmes. hvakgang io thd I the  axodd ot aory at lorttiC werias te Thocco ind whith ace sfan. alvan\n"
     ]
    }
   ],
   "source": [
    "from __future__ import print_function\n",
    "\n",
    "def sample(preds):\n",
    "    # helper function to sample an index from a probability array\n",
    "    preds = np.asarray(preds).astype('float64')\n",
    "    preds = np.log(preds) \n",
    "    exp_preds = np.exp(preds)\n",
    "    preds = exp_preds / np.sum(exp_preds)\n",
    "    probas = np.random.multinomial(1, preds, 1)\n",
    "    return np.argmax(probas)\n",
    "\n",
    "#number of iterations in the training\n",
    "nb_iterations= 10 \n",
    "\n",
    "# train the model, output generated text after each iteration\n",
    "for iteration in range(nb_iterations):\n",
    "    print()\n",
    "    print('-' * 50)\n",
    "    print('Iteration', iteration)\n",
    "    model.fit(X, y, batch_size=128, nb_epoch=1)\n",
    "\n",
    "    start_index = random.randint(0, len(text) - maxlen - 1)\n",
    "    generated = ''\n",
    "    sentence = text[start_index: start_index + maxlen]\n",
    "    generated += sentence\n",
    "    print('----- Generating with seed: \"' + sentence + '\"')\n",
    "    sys.stdout.write(generated)\n",
    "    for i in range(400):\n",
    "        x = np.zeros((1, maxlen, len(chars)))\n",
    "        for t, char in enumerate(sentence):\n",
    "            x[0, t, char_indices[char]] = 1.\n",
    "\n",
    "        preds = model.predict(x, verbose=0)[0]\n",
    "        next_index = sample(preds)\n",
    "        next_char = indices_char[next_index]\n",
    "        generated += next_char\n",
    "        sentence = sentence[1:] + next_char\n",
    "\n",
    "        sys.stdout.write(next_char)\n",
    "        sys.stdout.flush()\n",
    "    print()\n"
   ]
  },
  {
   "cell_type": "markdown",
   "metadata": {},
   "source": [
    "# Problem 2: Implementing k-Means Clustering (60 points)\n",
    "In this question, please implement the famous $k$-means clustering algorithm. You could use the toy data to test the correctness of your code. We assume $k=3$, i.e., we want to group the data points into 3 clusters.\n",
    "* Please do NOT use any existing package/function for kmeans clustering algorithm and implement your own version of the kmeans."
   ]
  },
  {
   "cell_type": "code",
   "execution_count": 3,
   "metadata": {
    "collapsed": false
   },
   "outputs": [
    {
     "name": "stdout",
     "output_type": "stream",
     "text": [
      "Cluster centers I counted:\n",
      "[array([ 1.07705469, -1.06730994]), array([-1.07159013, -1.00648645]), array([ 0.96700708,  1.01837274])]\n",
      "Cluster Centers:\n",
      "[[ 0.96700708  1.01837274]\n",
      " [-1.07262225 -1.00554224]\n",
      " [ 1.0759079  -1.06824293]]\n"
     ]
    },
    {
     "data": {
      "image/png": "[encoded data removed]",
      "text/plain": [
       "<matplotlib.figure.Figure at 0x10f776990>"
      ]
     },
     "metadata": {},
     "output_type": "display_data"
    }
   ],
   "source": [
    "%matplotlib inline\n",
    "\n",
    "import time\n",
    "import numpy as np\n",
    "import matplotlib.pyplot as plt\n",
    "\n",
    "\n",
    "from sklearn.metrics.pairwise import pairwise_distances_argmin\n",
    "from sklearn.datasets.samples_generator import make_blobs\n",
    "\n",
    "\n",
    "#Generate sample data\n",
    "np.random.seed(0)\n",
    "batch_size = 45\n",
    "centers = [[1, 1], [-1, -1], [1, -1]]\n",
    "n_clusters = len(centers)\n",
    "X, labels_true = make_blobs(n_samples=3000, centers=centers, cluster_std=0.7)\n",
    "\n",
    "\n",
    "\n",
    "#Compute clustering with KMeans. \n",
    "#---------------------------------------\n",
    "\n",
    "def nearest(x, centroids):\n",
    "    \"\"\"Finds the index of the centroid that is closest to x\"\"\"\n",
    "    dists = list(map(lambda c: np.linalg.norm(x-c), centroids))\n",
    "    return (np.argmin(dists), min(dists))\n",
    "\n",
    "i=0\n",
    "# Randomly select centroids from our input points\n",
    "centroids = [X[int(np.random.rand()*len(X))] for i in range(n_clusters)]\n",
    "old_centroids = []\n",
    "while not np.array_equal(centroids, old_centroids) and i!=100:\n",
    "    i+= 1 # Just making sure we don't run forever... shouldn't ever happen\n",
    "    clustered_points = [[] for i in range(n_clusters)]\n",
    "    for x in X: # For each point, find it's category\n",
    "        cat, distance = nearest(x, centroids)\n",
    "        clustered_points[cat].append(x)\n",
    "    old_centroids = centroids\n",
    "    centroids = [np.array(points).mean(axis=0) for points in clustered_points ]\n",
    "\n",
    "print(\"Cluster centers I counted:\")\n",
    "print(centroids)\n",
    "k_means_cluster_centers = centroids\n",
    "# replace this block of code with your implementation of kmeans.\n",
    "# you could use this code to check the correctness of your result.\n",
    "\n",
    "from sklearn.cluster import KMeans\n",
    "k_means = KMeans(n_clusters=3, n_init=10)\n",
    "k_means.fit(X)\n",
    "#k_means_cluster_centers = k_means.cluster_centers_\n",
    "#----------------------------------------\n",
    "\n",
    "print(\"Cluster Centers:\")\n",
    "print(k_means.cluster_centers_)\n",
    "\n",
    "\n",
    "# plot the result\n",
    "fig = plt.figure(figsize=(8, 8))\n",
    "colors = ['#4EACC5', '#FF9C34', '#4E9A06']\n",
    "k_means_labels = pairwise_distances_argmin(X, k_means_cluster_centers)\n",
    "ax = fig.add_subplot(1, 1, 1)\n",
    "for k, col in zip(range(n_clusters), colors):\n",
    "    my_members = k_means_labels == k\n",
    "    cluster_center = k_means_cluster_centers[k]\n",
    "    ax.plot(X[my_members, 0], X[my_members, 1], 'w',\n",
    "            markerfacecolor=col, marker='.')\n",
    "    ax.plot(cluster_center[0], cluster_center[1], 'o', markerfacecolor=col,\n",
    "            markeredgecolor='k', markersize=6)\n",
    "ax.set_title('KMeans')\n",
    "ax.set_xticks(())\n",
    "ax.set_yticks(())\n",
    "plt.show()"
   ]
  },
  {
   "cell_type": "markdown",
   "metadata": {},
   "source": [
    "*-----------------\n",
    "# Done\n",
    "\n",
    "All set! \n",
    "\n",
    "** What do you need to submit?**\n",
    "\n",
    "* **Notebook File**: Save this IPython notebook, and find the notebook file in your folder (for example, \"filename.ipynb\"). This is the file you need to submit. Please make sure all the plotted tables and figures are in the notebook. If you used \"ipython notebook --pylab=inline\" to open the notebook, all the figures and tables should have shown up in the notebook.\n",
    "\n",
    "\n",
    "** How to submit: **\n",
    "  Please submit your notebook file through myWPI, in the Assignment \"Homework 5\"."
   ]
  }
 ],
 "metadata": {
  "anaconda-cloud": {},
  "kernelspec": {
   "display_name": "Python [py27]",
   "language": "python",
   "name": "Python [py27]"
  },
  "language_info": {
   "codemirror_mode": {
    "name": "ipython",
    "version": 2
   },
   "file_extension": ".py",
   "mimetype": "text/x-python",
   "name": "python",
   "nbconvert_exporter": "python",
   "pygments_lexer": "ipython2",
   "version": "2.7.12"
  }
 },
 "nbformat": 4,
 "nbformat_minor": 0
}
