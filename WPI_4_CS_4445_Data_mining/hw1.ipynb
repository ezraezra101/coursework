{
 "cells": [
  {
   "cell_type": "markdown",
   "metadata": {},
   "source": [
    "# Homework 1 : Collecting Data from Twitter, Data Exporation (100 points)\n",
    "\n",
    "*------------"
   ]
  },
  {
   "cell_type": "markdown",
   "metadata": {},
   "source": [
    "**Required Readings:** \n",
    "* The codes for [Chapter 1](http://bit.ly/1qCtMrr) and [Chapter 9](http://bit.ly/1u7eP33)\n",
    "\n",
    "\n",
    "** NOTE **\n",
    "* Please don't forget to save the notebook frequently when working in IPython Notebook, otherwise the changes you made can be lost.\n",
    "\n",
    "*----------------------"
   ]
  },
  {
   "cell_type": "markdown",
   "metadata": {},
   "source": [
    "# Problem 1 (30 points): Data Collection: Sampling Twitter Data with Twitter API about a certain topic"
   ]
  },
  {
   "cell_type": "code",
   "execution_count": 1,
   "metadata": {
    "collapsed": true
   },
   "outputs": [],
   "source": [
    "import twitter\n",
    "import json\n",
    "import re"
   ]
  },
  {
   "cell_type": "markdown",
   "metadata": {},
   "source": [
    "## Problem 1.1 (20 points): Download more than 200 tweets from the same topic\n",
    "* Select a topic that you are interested in, for example, \"WPI\" or \"Lady Gaga\"\n",
    "* Use Twitter API to sample a collection of tweets about this topic in real time. The number of tweets should be larger than 200."
   ]
  },
  {
   "cell_type": "code",
   "execution_count": 2,
   "metadata": {
    "collapsed": false
   },
   "outputs": [],
   "source": [
    "#---------------------------------------------\n",
    "# Define a Function to Login Twitter API\n",
    "def oauth_login():\n",
    "    # Go to http://twitter.com/apps/new to create an app and get values\n",
    "    # for these credentials that you'll need to provide in place of these\n",
    "    # empty string values that are defined as placeholders.\n",
    "    # See https://dev.twitter.com/docs/auth/oauth for more information \n",
    "    # on Twitter's OAuth implementation.\n",
    "    \n",
    "    CONSUMER_KEY = 'GBqu9ZSEO0rsrZSAFMWBqWrpg'\n",
    "    CONSUMER_SECRET ='xCuKPPe5tCeUwyAvGjQHUDPIzo47js1GLQ9onloRJOlhplQN4U'\n",
    "    OAUTH_TOKEN = '791694118686715904-qqKbZoMBQqtC2AIdcUfCHPSOmtBC5XP'\n",
    "    OAUTH_TOKEN_SECRET = 'UB1oQDPqAX4txwKbxZSVY4sOzsAg3zmqXuqbXi193kqBK'\n",
    "    \n",
    "    auth = twitter.oauth.OAuth(OAUTH_TOKEN, OAUTH_TOKEN_SECRET,\n",
    "                               CONSUMER_KEY, CONSUMER_SECRET)\n",
    "    \n",
    "    twitter_api = twitter.Twitter(auth=auth)\n",
    "    return twitter_api\n",
    "#----------------------------------------------\n",
    "\n",
    "twitter_api = oauth_login()\n",
    "query = 'Data mining'\n",
    "\n",
    "# Setup initial arguments to the twitter API\n",
    "arguments = {\n",
    "    'q': query,\n",
    "    'count': 100\n",
    "}\n",
    "statuses = []\n",
    "# Twitter doesn't let us get more than 100 messages at a time, so we make 5 requests\n",
    "for _ in range(5):\n",
    "    # Make an API request and store the results in statuses.\n",
    "    search_results = twitter_api.search.tweets(**arguments)\n",
    "    statuses += search_results['statuses']\n",
    "    try:\n",
    "        # Modify the arguments variable for pagination\n",
    "        next_results = search_results['search_metadata']['next_results']\n",
    "        arguments['max_id'] = next_results.split('max_id=')[1].split('&')[0]\n",
    "        arguments['include_entities'] = next_results.split('include_entities=')[1].split('&')[0]\n",
    "    except KeyError, e: # No more results when next_results doesn't exist\n",
    "        if len(statuses) <= 200:\n",
    "            print \"Could only get %d tweets when searching for '%s'\" % (len(statuses), query)\n",
    "        break\n",
    "\n",
    "\n",
    "#---------\n",
    "list_tweets = statuses"
   ]
  },
  {
   "cell_type": "markdown",
   "metadata": {},
   "source": [
    "## Problem 1.2 (2 points): print the total number of tweets being collected. \n",
    "The number should be larger than 200. If it is smaller than 200, try to choose a popular topic in problem 1.1."
   ]
  },
  {
   "cell_type": "code",
   "execution_count": 3,
   "metadata": {
    "collapsed": false
   },
   "outputs": [
    {
     "name": "stdout",
     "output_type": "stream",
     "text": [
      "500\n"
     ]
    }
   ],
   "source": [
    "number_tweets = len(list_tweets)\n",
    "print number_tweets"
   ]
  },
  {
   "cell_type": "markdown",
   "metadata": {},
   "source": [
    "## Problem 1.3 (3 points): print the first 5 tweets in the list."
   ]
  },
  {
   "cell_type": "code",
   "execution_count": 4,
   "metadata": {
    "collapsed": false
   },
   "outputs": [
    {
     "name": "stdout",
     "output_type": "stream",
     "text": [
      "===> DTMsport\n",
      "RT @FranTownsend: Peter Thiel’s CIA-backed data mining company wins court battle against the U.S. Army https://t.co/YAyz9NzqxE by @JennaMC_…\n",
      "===> TankBag\n",
      "RT @theintercept: Groups like @ACLU have argued that data-mining software created by Peter Thiel's company enables mass surveillance. https…\n",
      "===> gangofcolour\n",
      "@charliekirk11 he's a anti-democratic, anti-statist hack who helps the state with its surveillance  lol https://t.co/J8YjWBvCrO\n",
      "===> Web_Scraping_US\n",
      "#data #mining Intellectual property strategies for startups https://t.co/xCYrk00iyV #webscraping https://t.co/yfMjtsQoWF\n",
      "===> carm2158\n",
      "RT @theintercept: Groups like @ACLU have argued that data-mining software created by Peter Thiel's company enables mass surveillance. https…\n"
     ]
    }
   ],
   "source": [
    "# Prints out the JSON of the first 5 tweets\n",
    "# I've commented it out because the output is pretty ugly\n",
    "# print json.JSONEncoder(indent=4, sort_keys=True).encode(list_tweets[0:5])\n",
    "\n",
    "# For each tweet, print its user's screen name and the tweet's text\n",
    "for tweet in list_tweets[0:5]:\n",
    "    print '===> ' + tweet['user']['screen_name']\n",
    "    print tweet['text']  "
   ]
  },
  {
   "cell_type": "markdown",
   "metadata": {},
   "source": [
    "## Problem 1.4 (5 points): save all the tweets into a local JSON file.\n",
    "The size of the json file should be smaller than 20MB. If it is larger than 20M, reduce the number of tweets being downloaded in problem 1.1"
   ]
  },
  {
   "cell_type": "code",
   "execution_count": 5,
   "metadata": {
    "collapsed": false
   },
   "outputs": [],
   "source": [
    "json_file_name = 'tweets.json'\n",
    "#------------\n",
    "with open(json_file_name, 'w') as fp:\n",
    "    json.dump(list_tweets, fp)"
   ]
  },
  {
   "cell_type": "markdown",
   "metadata": {},
   "source": [
    "# Problem 2:(20 points) Extracting Tweet Entities "
   ]
  },
  {
   "cell_type": "markdown",
   "metadata": {},
   "source": [
    "## Problem 2.1 (10 points): load the tweets from the local json file"
   ]
  },
  {
   "cell_type": "code",
   "execution_count": 6,
   "metadata": {
    "collapsed": false
   },
   "outputs": [],
   "source": [
    "json_file_name = 'tweets.json'\n",
    "#--------\n",
    "with open(json_file_name, 'r') as fp:\n",
    "    tweets = json.load(fp)\n",
    "\n",
    "new_list_of_tweets = tweets"
   ]
  },
  {
   "cell_type": "markdown",
   "metadata": {},
   "source": [
    "## Problem 2.2 (10 points):Extract a list of screen names for all the users being mentioned in these tweets\n",
    "Note if a user has been mentioned for multiple times, the list should contain the user's screen name for mulitple times.\n"
   ]
  },
  {
   "cell_type": "code",
   "execution_count": 7,
   "metadata": {
    "collapsed": false
   },
   "outputs": [
    {
     "name": "stdout",
     "output_type": "stream",
     "text": [
      "[u'FranTownsend', u'theintercept', u'ACLU', u'charliekirk11', u'theintercept', u'ACLU', u'theintercept', u'ACLU', u'theintercept', u'ACLU']\n"
     ]
    }
   ],
   "source": [
    "# use the *new_list_of_tweets* to extract the screen names\n",
    "screen_names = []\n",
    "for tweet in new_list_of_tweets:\n",
    "    screen_names += [ user['screen_name'] for user in tweet['entities']['user_mentions']]\n",
    "\n",
    "#-------------\n",
    "list_screen_names = screen_names\n",
    "print list_screen_names[0:10]"
   ]
  },
  {
   "cell_type": "markdown",
   "metadata": {},
   "source": [
    "# Problem 3: Data Exploration (20 points) "
   ]
  },
  {
   "cell_type": "markdown",
   "metadata": {},
   "source": [
    "## Problem 3.1: Counting User mentions (10 points)\n",
    " Create a sorted list for the numbers of times each user being mentioned in the tweets.\n",
    " For example, if we have 5 users being mentioned 18 times, 15 times, ..., separately in all the tweets, the sort list should be like: [18, 15, 9, 7, 6]. \n",
    "Note the list should be sorted, with the largest number at the top of the list."
   ]
  },
  {
   "cell_type": "code",
   "execution_count": 8,
   "metadata": {
    "collapsed": false
   },
   "outputs": [
    {
     "name": "stdout",
     "output_type": "stream",
     "text": [
      "[101, 29, 21, 12, 11, 10, 10, 10, 8, 6]\n"
     ]
    }
   ],
   "source": [
    "from operator import itemgetter\n",
    "from collections import Counter\n",
    "\n",
    "#### \n",
    "# # Count each screen names in a dict.\n",
    "# screen_names_count = {}\n",
    "# for screen_name in list_screen_names:\n",
    "#     screen_names_count[screen_name] = 1+screen_names_count.get(screen_name, 0)\n",
    "# # Gives us a list of (screen_names, count) in descending order\n",
    "# screen_names_and_count = sorted(screen_names_count.items(), key=itemgetter(1), reverse=True)\n",
    "\n",
    "# Clean way of doing the same thing\n",
    "screen_names_and_count = Counter(screen_names).most_common()\n",
    "\n",
    "#-------------\n",
    "list_screen_name_counts = [count for screen_name, count in screen_names_and_count]\n",
    "print list_screen_name_counts[:10]"
   ]
  },
  {
   "cell_type": "markdown",
   "metadata": {},
   "source": [
    "\n",
    "## Problem 3.2: Visualization: Histogram (10 points)\n",
    "Plot a histogram of the number of user mentions in the list (list_screen_name_counts) using the following bins."
   ]
  },
  {
   "cell_type": "code",
   "execution_count": 9,
   "metadata": {
    "collapsed": false
   },
   "outputs": [
    {
     "data": {
      "image/png": "[encoded data removed]",
      "text/plain": [
       "<matplotlib.figure.Figure at 0x10a3ec390>"
      ]
     },
     "metadata": {},
     "output_type": "display_data"
    }
   ],
   "source": [
    "import matplotlib\n",
    "import matplotlib.pyplot as plt\n",
    "%matplotlib inline  \n",
    "\n",
    "bins=[0, 10, 20, 30, 40, 50, 100]\n",
    "#---------------\n",
    "\n",
    "n, bins, patches = plt.hist(list_screen_name_counts, bins)\n",
    "\n",
    "plt.title('Tweets per person in our topics')\n",
    "plt.ylabel('Users')\n",
    "plt.xlabel('Number of tweets')\n",
    "plt.show()"
   ]
  },
  {
   "cell_type": "markdown",
   "metadata": {},
   "source": [
    "# Problem 4: Statistics of Data Attributes (30 points)\n",
    "## Problem 4.1: Mode (10 points)\n",
    "Compute the **Mode** of the attribute *screen_name_counts*. Assuming that the attribute is the same as the list (list_screen_name_counts)\n"
   ]
  },
  {
   "cell_type": "code",
   "execution_count": 10,
   "metadata": {
    "collapsed": false
   },
   "outputs": [
    {
     "name": "stdout",
     "output_type": "stream",
     "text": [
      "Most people (59 out of 96) have 1 post(s) in the list.\n",
      "1\n"
     ]
    }
   ],
   "source": [
    "# If screen_name_counts doesn't exist, make it use list_screen_name_counts\n",
    "# Mostly for testing\n",
    "try:\n",
    "    screen_name_counts\n",
    "except:\n",
    "    screen_name_counts = list_screen_name_counts\n",
    "\n",
    "# Could use scipy.stats's mode(some_list)\n",
    "# Or, we could use Counter(some_list).most_common()[0][0]\n",
    "# But, let's just implement it ourselves:\n",
    "\n",
    "# Make a dictionary of tweets_per_user => occurances_of_that_count\n",
    "count_occurances = {}\n",
    "for screen_name in screen_name_counts:\n",
    "    count_occurances[screen_name] = 1+count_occurances.get(screen_name, 0)\n",
    "\n",
    "# Get a list of (counts, occurances)\n",
    "counts_and_occurances = sorted(count_occurances.items(), key=itemgetter(1), reverse=True)\n",
    "\n",
    "print \"Most people (%d out of %d) have %d post(s) in the list.\" % (counts_and_occurances[0][1], len(screen_name_counts), counts_and_occurances[0][0])\n",
    "\n",
    "#------------\n",
    "Mode_of_screenname_counts= counts_and_occurances[0][0]\n",
    "print Mode_of_screenname_counts"
   ]
  },
  {
   "cell_type": "markdown",
   "metadata": {},
   "source": [
    "## Problem 4.2: Median (10 points)\n",
    "Compute the **Median** of the attribute *screen_name_counts*. Assuming that the attribute is the same as the list (list_screen_name_counts)"
   ]
  },
  {
   "cell_type": "code",
   "execution_count": 11,
   "metadata": {
    "collapsed": false
   },
   "outputs": [
    {
     "name": "stdout",
     "output_type": "stream",
     "text": [
      "1.0\n"
     ]
    }
   ],
   "source": [
    "length = len(screen_name_counts)\n",
    "median = screen_name_counts[int(length/2.0-0.5)] if length % 2 else (screen_name_counts[length/2-1] + screen_name_counts[length/2])/2.0\n",
    "#------------\n",
    "Median_of_screenname_counts= median#<insert your variable>\n",
    "print Median_of_screenname_counts"
   ]
  },
  {
   "cell_type": "markdown",
   "metadata": {},
   "source": [
    "## Problem 4.2: Range (10 points)\n",
    "Compute the **Range** of the attribute *screen_name_counts*: we assume that the attribute is the same as the list (list_screen_name_counts)"
   ]
  },
  {
   "cell_type": "code",
   "execution_count": 13,
   "metadata": {
    "collapsed": false
   },
   "outputs": [
    {
     "name": "stdout",
     "output_type": "stream",
     "text": [
      "100\n"
     ]
    }
   ],
   "source": [
    "maximum = screen_name_counts[0]\n",
    "minimum = screen_name_counts[-1]\n",
    "#------------\n",
    "Range_of_screenname_counts= maximum - minimum\n",
    "print Range_of_screenname_counts"
   ]
  },
  {
   "cell_type": "markdown",
   "metadata": {},
   "source": [
    "*-----------------\n",
    "# Done\n",
    "\n",
    "All set! \n",
    "\n",
    "** What do you need to submit?**\n",
    "\n",
    "* **Notebook File**: Save this IPython notebook, and find the notebook file in your folder (for example, \"filename.ipynb\"). This is the file you need to submit. Please make sure all the plotted tables and figures are in the notebook. If you used \"ipython notebook --pylab=inline\" to open the notebook, all the figures and tables should have shown up in the notebook.\n",
    "\n",
    "\n",
    "* **JSON file**: please include the json file for the tweets that you collected. Please make sure the JSON file is smaller than 20MB.\n",
    "\n",
    "\n",
    "* Please compress both files in a **zip file**.\n",
    "\n",
    "\n",
    "** How to submit: **\n",
    "  Please submit your **zip file** through myWPI, in the Assignment \"Homework 1\"."
   ]
  },
  {
   "cell_type": "code",
   "execution_count": null,
   "metadata": {
    "collapsed": false
   },
   "outputs": [],
   "source": []
  }
 ],
 "metadata": {
  "anaconda-cloud": {},
  "kernelspec": {
   "display_name": "Python [py27]",
   "language": "python",
   "name": "Python [py27]"
  },
  "language_info": {
   "codemirror_mode": {
    "name": "ipython",
    "version": 2
   },
   "file_extension": ".py",
   "mimetype": "text/x-python",
   "name": "python",
   "nbconvert_exporter": "python",
   "pygments_lexer": "ipython2",
   "version": "2.7.12"
  }
 },
 "nbformat": 4,
 "nbformat_minor": 0
}
