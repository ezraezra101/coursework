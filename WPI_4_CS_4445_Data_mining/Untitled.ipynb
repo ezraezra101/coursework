{
 "cells": [
  {
   "cell_type": "code",
   "execution_count": 1,
   "metadata": {
    "collapsed": false
   },
   "outputs": [
    {
     "name": "stdout",
     "output_type": "stream",
     "text": [
      "Total dataset size:\n",
      "n_images: 1288\n",
      "n_features: 1850\n",
      "training size: 966\n",
      "test size: 322\n"
     ]
    }
   ],
   "source": [
    "# Starting work on PCA stuffs...\n",
    "\n",
    "%matplotlib inline\n",
    "from sklearn import datasets\n",
    "from sklearn.model_selection import train_test_split\n",
    "import sklearn\n",
    "# download/load dataset\n",
    "dataset = datasets.fetch_lfw_people(min_faces_per_person=70, resize=0.4)\n",
    "# the images\n",
    "X = dataset.data\n",
    "# the label to predict is the id of the person\n",
    "y = dataset.target\n",
    "\n",
    "# statistics of the data\n",
    "n_samples, h, w = dataset.images.shape\n",
    "n_features = X.shape[1]\n",
    "print(\"Total dataset size:\")\n",
    "print(\"n_images: %d\" % n_samples)\n",
    "print(\"n_features: %d\" % n_features)\n",
    "\n",
    "\n",
    "# split into a training and testing set\n",
    "X_train, X_test, y_train, y_test = train_test_split(X, y, test_size=0.25, random_state=42)\n",
    "print(\"training size: %d\" % len(y_train))\n",
    "print(\"test size: %d\" % len(y_test))"
   ]
  },
  {
   "cell_type": "code",
   "execution_count": 111,
   "metadata": {
    "collapsed": false
   },
   "outputs": [],
   "source": [
    "import numpy as np\n",
    "## Z-score prescaling\n",
    "def mean(a, n=False):\n",
    "    if not n:\n",
    "        n = len(a)\n",
    "    sum = 0\n",
    "    for i in a:\n",
    "        sum += i\n",
    "    return sum/n\n",
    "def std(a, is_population=False, avg=False, n=False):\n",
    "    if not n:\n",
    "        n = len(a)\n",
    "    if not avg:\n",
    "        avg = mean(a)\n",
    "    deviances_sum = 0\n",
    "    for i in range(n):\n",
    "        deviances_sum += (a[i] -avg)**2\n",
    "    div = n if is_population else n-1\n",
    "    \n",
    "    return (deviances_sum/div)**0.5\n",
    "\n",
    "def z_score_func(a, stdev=False, avg=False, n=False, is_population=False):\n",
    "    if not n:\n",
    "        n = len(a)\n",
    "    if not avg:\n",
    "        avg = mean(a, n)\n",
    "    if not stdev:\n",
    "        stdev = std(a, is_population=is_population, avg=avg, n=n)\n",
    "    def z_score(x):\n",
    "        return (x-avg) / stdev\n",
    "    return z_score\n",
    "\n",
    "\n",
    "# Standardizes 2D data\n",
    "def standardize(data):\n",
    "    data_std = []\n",
    "    for row in range(len(data)):\n",
    "        z_score = np.vectorize(z_score_func(data[row]))\n",
    "        data_std.append(z_score(data[row]))\n",
    "    return data_std\n",
    "\n",
    "# Covariance of two lists\n",
    "def cov(x, y):\n",
    "    if len(x) != len(y):\n",
    "        print(\"Cannot calculate co-variance of datasets with different numbers of points\")\n",
    "    x_avg = x.mean()\n",
    "    y_avg = y.mean()\n",
    "    sum_variance = 0\n",
    "    for i in range(len(x)):\n",
    "        sum_variance += (x[i]-x_avg) * (y[i]-y_avg)\n",
    "    return sum_variance / (x.shape[0]-1)\n",
    "\n",
    "def cov_matrix(data):\n",
    "    # samples = data.shape[0]\n",
    "    dimensions = data.shape[1]\n",
    "    matrix = np.empty([dimensions, dimensions])\n",
    "    for i in range(dimensions):\n",
    "        for j in range(i): # we've already calculated these, so we're putting them in\n",
    "            matrix[i,j] = matrix[j, i]\n",
    "        for j in range(i, dimensions):\n",
    "            matrix[i,j] = cov(data[:,i], data[:,j])\n",
    "    return matrix\n",
    "\n",
    "std(X[4])\n",
    "z_score = z_score_func(X[4])\n",
    "X_std = [ z_score(x) for x in X[4]]"
   ]
  },
  {
   "cell_type": "code",
   "execution_count": 112,
   "metadata": {
    "collapsed": false
   },
   "outputs": [
    {
     "data": {
      "text/plain": [
       "array([[ 2841.51758016,  2694.99240995,  2108.2820771 ,  1489.12643309,\n",
       "         1053.24135131,   767.95709206,   598.9847705 ,   540.40073361,\n",
       "          457.97805048,   409.97953457],\n",
       "       [ 2694.99240995,  2700.29571451,  2230.23450558,  1598.38847324,\n",
       "         1120.24275278,   816.15537999,   626.98266399,   577.94067762,\n",
       "          507.36594823,   474.80251416],\n",
       "       [ 2108.2820771 ,  2230.23450558,  2207.11673725,  1837.67907483,\n",
       "         1325.15657819,   948.81882649,   676.27226382,   592.58807313,\n",
       "          520.41331552,   512.67436004],\n",
       "       [ 1489.12643309,  1598.38847324,  1837.67907483,  1887.35458869,\n",
       "         1546.86811195,  1141.37312766,   808.99367902,   702.75199975,\n",
       "          635.37564572,   647.95752166],\n",
       "       [ 1053.24135131,  1120.24275278,  1325.15657819,  1546.86811195,\n",
       "         1534.99329806,  1262.71774277,   933.07176638,   829.61817789,\n",
       "          766.74032139,   774.10730314],\n",
       "       [  767.95709206,   816.15537999,   948.81882649,  1141.37312766,\n",
       "         1262.71774277,  1199.80128427,   996.04416288,   895.33427588,\n",
       "          823.28320768,   804.72026802],\n",
       "       [  598.9847705 ,   626.98266399,   676.27226382,   808.99367902,\n",
       "          933.07176638,   996.04416288,  1066.06589805,  1031.05595568,\n",
       "          965.59936905,   889.55993581],\n",
       "       [  540.40073361,   577.94067762,   592.58807313,   702.75199975,\n",
       "          829.61817789,   895.33427588,  1031.05595568,  1073.62262073,\n",
       "         1042.26155873,   962.32026952],\n",
       "       [  457.97805048,   507.36594823,   520.41331552,   635.37564572,\n",
       "          766.74032139,   823.28320768,   965.59936905,  1042.26155873,\n",
       "         1055.12433638,   999.27230685],\n",
       "       [  409.97953457,   474.80251416,   512.67436004,   647.95752166,\n",
       "          774.10730314,   804.72026802,   889.55993581,   962.32026952,\n",
       "          999.27230685,  1015.08236539]])"
      ]
     },
     "execution_count": 112,
     "metadata": {},
     "output_type": "execute_result"
    }
   ],
   "source": [
    "x = [1,2,3,4,5]\n",
    "#x.reverse()\n",
    "y = [2,3,4,5,6]\n",
    "covariance(np.array(x), np.array(y))\n",
    "\n",
    "cov_matrix(X[0:100, 0:10])"
   ]
  },
  {
   "cell_type": "code",
   "execution_count": 163,
   "metadata": {
    "collapsed": false
   },
   "outputs": [
    {
     "data": {
      "text/plain": [
       "array([[-0.73517866, -0.6778734 ],\n",
       "       [ 0.6778734 , -0.73517866]])"
      ]
     },
     "execution_count": 163,
     "metadata": {},
     "output_type": "execute_result"
    }
   ],
   "source": [
    "x = np.array([2.5, 0.5, 2.2, 1.9, 3.1, 2.3, 2.0, 1.0, 1.5, 1.1])\n",
    "y = np.array([2.4, 0.7, 2.9, 2.2, 3.0, 2.7, 1.6, 1.1, 1.6, 0.9])\n",
    "x -= x.mean()\n",
    "y -= y.mean()\n",
    "data = np.array(zip(x,y))\n",
    "cov_mat = cov_matrix(data)\n",
    "\n",
    "eig_vals, eig_vecs = np.linalg.eig(cov_mat)\n",
    "eig_vecs"
   ]
  },
  {
   "cell_type": "code",
   "execution_count": 172,
   "metadata": {
    "collapsed": false
   },
   "outputs": [
    {
     "data": {
      "text/plain": [
       "<matplotlib.legend.Legend at 0x11505af50>"
      ]
     },
     "execution_count": 172,
     "metadata": {},
     "output_type": "execute_result"
    },
    {
     "data": {
      "image/png": "[encoded data removed]",
      "text/plain": [
       "<matplotlib.figure.Figure at 0x114b30610>"
      ]
     },
     "metadata": {},
     "output_type": "display_data"
    }
   ],
   "source": [
    "import matplotlib.pyplot as plt\n",
    "plt.title(\"Normalized (X - mean) and it's covariance matrix's eigenvectors\")\n",
    "plt.scatter(x,y)\n",
    "z=0\n",
    "for vec, val in zip(eig_vecs, eig_vals):\n",
    "    q=z\n",
    "    z=plt.plot([0,vec[0]],[0, vec[1]], label='Eigen value: {:}'.format(val))\n",
    "    \n",
    "    lines.append(z)\n",
    "plt.legend(handles=q+z)"
   ]
  },
  {
   "cell_type": "code",
   "execution_count": 181,
   "metadata": {
    "collapsed": false
   },
   "outputs": [
    {
     "data": {
      "text/plain": [
       "<matplotlib.collections.PathCollection at 0x115fec050>"
      ]
     },
     "execution_count": 181,
     "metadata": {},
     "output_type": "execute_result"
    },
    {
     "data": {
      "image/png": "[encoded data removed]",
      "text/plain": [
       "<matplotlib.figure.Figure at 0x115383a10>"
      ]
     },
     "metadata": {},
     "output_type": "display_data"
    }
   ],
   "source": [
    "def pca_transform(x, y):\n",
    "    return np.array(10)* np.array([x,y])\n",
    "q = [pca_transform(x_i,y_i) for x_i, y_i in zip(x,y)]\n",
    "x_pca, y_pca = zip(*q)\n",
    "plt.scatter(x_pca, y_pca)"
   ]
  },
  {
   "cell_type": "code",
   "execution_count": null,
   "metadata": {
    "collapsed": true
   },
   "outputs": [],
   "source": []
  }
 ],
 "metadata": {
  "anaconda-cloud": {},
  "kernelspec": {
   "display_name": "Python [py27]",
   "language": "python",
   "name": "Python [py27]"
  },
  "language_info": {
   "codemirror_mode": {
    "name": "ipython",
    "version": 2
   },
   "file_extension": ".py",
   "mimetype": "text/x-python",
   "name": "python",
   "nbconvert_exporter": "python",
   "pygments_lexer": "ipython2",
   "version": "2.7.12"
  }
 },
 "nbformat": 4,
 "nbformat_minor": 0
}
