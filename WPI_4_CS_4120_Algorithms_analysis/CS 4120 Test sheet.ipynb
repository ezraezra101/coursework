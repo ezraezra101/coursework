{
 "cells": [
  {
   "cell_type": "markdown",
   "metadata": {},
   "source": [
    "##### Recusing tree method of analysis:\n",
    "\"Unfold\" the recursion:\n",
    "(Assuming n=2^k)\n",
    "C*n -> C*n/2 + Cn/2 -> C*n/4 + C*n/4 + C*n/4 + C*n/4 -> ... -> C + C + ...\n",
    "\n",
    "We have $1+ \\log n$ levels, and each level takes C*n time (each level sums to C*n).\n",
    "\n",
    "$T(n) \\le C n (1+\\log n) = O(n\\log n)$\n",
    "\n",
    "##### Subsitution method of analysis\n",
    "1. Guess the form of the solution\n",
    "2. Verify guess by induction\n",
    "\n",
    "Basis: $P(1)$ is T (or $P(\\text{some other low value})$)\n",
    "\n",
    "Inductive step: $\\forall n (P(1)\\wedge ... \\wedge P(u)) \\rightarrow P(n+1) \\implies \\forall n P(n)$\n",
    "\n",
    "T(n) = O(1) if n <= c else: a*T(n/b)+f(n)\n",
    "\n",
    "##### Main idea of master theorem\n",
    "max(f(n), n^(log_b a)\n",
    "\n",
    "- Case 1: If $f(n) = O(n^{log_b a - \\epsilon})$ for some $\\epsilon > 0$,\n",
    "    then $T(n) = \\Theta(n^{log_ba})$\n",
    "\n",
    "- Case 2: If $f(n) = \\Theta(n^{log_b a})$,\n",
    "    then $T(n) = \\Theta(f(n)\\cdot \\log n)$\n",
    "\n",
    "- Case 3: If $f(n) = \\Omega(n^{\\log_b a + \\epsilon})$ for some $\\epsilon > 0$ and we have the regularity condition $a \\cdot f(n/b) \\le c \\cdot f(n)$ for some $c < 1$ and $n \\ge n_0$,\n",
    "    then $T(n) = \\Theta(f(n))$\n",
    "\n",
    "- Else, we can't apply the Master Theorem\n",
    "\n"
   ]
  },
  {
   "cell_type": "markdown",
   "metadata": {
    "collapsed": true
   },
   "source": []
  }
 ],
 "metadata": {
  "anaconda-cloud": {},
  "kernelspec": {
   "display_name": "Python [Root]",
   "language": "python",
   "name": "Python [Root]"
  },
  "language_info": {
   "codemirror_mode": {
    "name": "ipython",
    "version": 3
   },
   "file_extension": ".py",
   "mimetype": "text/x-python",
   "name": "python",
   "nbconvert_exporter": "python",
   "pygments_lexer": "ipython3",
   "version": "3.5.2"
  }
 },
 "nbformat": 4,
 "nbformat_minor": 0
}
