{
 "cells": [
  {
   "cell_type": "code",
   "execution_count": 135,
   "metadata": {
    "collapsed": false
   },
   "outputs": [],
   "source": [
    "%matplotlib inline  \n",
    "import numpy as np\n",
    "from stl import mesh\n",
    "from skimage import measure\n",
    "import matplotlib.pyplot as plt\n",
    "\n",
    "\n",
    "def load_file(filename, x,y,z):\n",
    "    voxels = np.ones([z,x,y], dtype=bool)\n",
    "    j = 0\n",
    "    k = 0\n",
    "    with open(filename) as f:\n",
    "        for k in range(z):\n",
    "            f.readline()\n",
    "            for j in range(y):\n",
    "                line = f.readline()\n",
    "                for i in range(x):\n",
    "                    voxels[k,i,j] = line[i] == \"#\"\n",
    "    return voxels\n",
    "\n",
    "\n",
    "\n",
    "def draw_voxels(voxels):\n",
    "    '''Very slow voxel drawing function'''\n",
    "    fig = plt.figure()\n",
    "    ax = fig.gca(projection='3d')\n",
    "    ax.voxels(voxels, edgecolor='k')\n",
    "    plt.show()\n",
    "\n",
    "def draw_depthmap(voxels, filename=None):\n",
    "    depth = np.zeros_like(voxels[0,:,:], dtype=float)\n",
    "    for i in range(voxels.shape[0]):\n",
    "         depth[voxels[i,:,:]] = i\n",
    "    dpi = voxels.shape[1]/5\n",
    "    fig = plt.figure(figsize=(5,voxels.shape[2]/dpi), dpi=dpi, frameon=False)\n",
    "    print(dpi)\n",
    "    plt.axis('off')\n",
    "    plt.tick_params(axis='both', left='off', top='off', right='off', bottom='off', labelleft='off', labeltop='off', labelright='off', labelbottom='off')\n",
    "    plt.imshow(depth, cmap='gray', interpolation='none')\n",
    "    if(filename != None):\n",
    "        plt.savefig(filename, bbox_inches='tight', pad_inches=0.0, dpi=dpi)\n",
    "\n",
    "def save_stl(voxels, filename='foam.stl'):\n",
    "    verts, faces = measure.marching_cubes(voxels, 0.5)\n",
    "\n",
    "    # Shamelessly copied from docs:\n",
    "    # https://pypi.python.org/pypi/numpy-stl\n",
    "    foam = mesh.Mesh(np.zeros(faces.shape[0], dtype=mesh.Mesh.dtype))\n",
    "    for i, f in enumerate(faces):\n",
    "        for j in range(3):\n",
    "            foam.vectors[i][j] = verts[f[j],:]\n",
    "\n",
    "    foam.save(filename)\n"
   ]
  },
  {
   "cell_type": "code",
   "execution_count": null,
   "metadata": {
    "collapsed": true
   },
   "outputs": [],
   "source": [
    "save_stl(voxels, 'foam2.stl')"
   ]
  },
  {
   "cell_type": "code",
   "execution_count": null,
   "metadata": {
    "collapsed": false
   },
   "outputs": [],
   "source": [
    "voxels = load_file(\"result2.txt\", 400, 400, 40)"
   ]
  },
  {
   "cell_type": "code",
   "execution_count": 134,
   "metadata": {
    "collapsed": false
   },
   "outputs": [
    {
     "data": {
      "text/plain": [
       "80.0"
      ]
     },
     "execution_count": 134,
     "metadata": {},
     "output_type": "execute_result"
    }
   ],
   "source": [
    "draw_depthmap(voxels[::-1,:,:], 'depthmap.png')"
   ]
  },
  {
   "cell_type": "code",
   "execution_count": null,
   "metadata": {
    "collapsed": true
   },
   "outputs": [],
   "source": []
  }
 ],
 "metadata": {
  "kernelspec": {
   "display_name": "Python [Root]",
   "language": "python",
   "name": "Python [Root]"
  },
  "language_info": {
   "codemirror_mode": {
    "name": "ipython",
    "version": 3
   },
   "file_extension": ".py",
   "mimetype": "text/x-python",
   "name": "python",
   "nbconvert_exporter": "python",
   "pygments_lexer": "ipython3",
   "version": "3.5.2"
  }
 },
 "nbformat": 4,
 "nbformat_minor": 0
}
